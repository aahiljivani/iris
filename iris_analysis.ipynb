{
 "cells": [
  {
   "cell_type": "code",
   "execution_count": 20,
   "metadata": {},
   "outputs": [],
   "source": [
    "from numpy import genfromtxt\n",
    "import pandas as pd\n",
    "import matplotlib.pyplot as plt\n",
    "from sklearn import svm\n",
    "from sklearn.linear_model import LogisticRegression\n",
    "from sklearn.preprocessing import LabelEncoder, StandardScaler\n",
    "from sklearn.model_selection import train_test_split\n",
    "from sklearn.metrics import (accuracy_score, confusion_matrix, f1_score, precision_score, recall_score)\n",
    "from sklearn.neighbors import KNeighborsClassifier \n",
    "from sklearn.naive_bayes import GaussianNB\n"
   ]
  },
  {
   "cell_type": "code",
   "execution_count": 14,
   "metadata": {},
   "outputs": [],
   "source": [
    "# Create function that prints out all imported sklearn metrics for evaluating each machine learning model\n",
    "def eval_metrics(y_test, y_pred):\n",
    "     print('Accuracy is %.3f' % accuracy_score(y_test, y_pred))\n",
    "     print('F1-measure is: %.3f' % f1_score(y_test, y_pred, average= 'weighted'))\n",
    "     print('Recall is %.3f' % recall_score(y_test, y_pred, average= 'weighted'))\n",
    "     print('Precision is %.3f' % precision_score(y_test, y_pred, average='weighted'))\n",
    "     conf_matrix = confusion_matrix(y_test, y_pred)\n",
    "     print(conf_matrix)\n",
    "     print(pd.crosstab(y_test, y_pred, rownames = ['True'],colnames = ['Predicted'], margins=True))\n",
    "     "
   ]
  },
  {
   "cell_type": "code",
   "execution_count": 3,
   "metadata": {},
   "outputs": [],
   "source": [
    "# Load in the data from the iris csv file into 2 numpy arrays\n",
    "features = genfromtxt('/users/aahiljivani/documents/py_projects/ml_for_cyber_sec/datasets/iris.csv', delimiter=',', usecols=(i for i in range(4)), dtype=float,skip_header=1)\n",
    "class_value = genfromtxt('/users/aahiljivani/documents/py_projects/ml_for_cyber_sec/datasets/iris.csv', delimiter=',',usecols=(-1) ,dtype = str, skip_header=1)\n",
    "\n",
    "\n",
    "\n"
   ]
  },
  {
   "cell_type": "code",
   "execution_count": 4,
   "metadata": {},
   "outputs": [],
   "source": [
    "# Making the categorical variables integers for preprocessing\n",
    "labels = LabelEncoder().fit_transform(class_value)\n",
    "# normalizing the quantitative features so that they are scaled to variables between 0 and 1\n",
    "features_norm = StandardScaler().fit_transform(features)\n"
   ]
  },
  {
   "cell_type": "code",
   "execution_count": 5,
   "metadata": {},
   "outputs": [],
   "source": [
    "# Splitting the data for training and testing\n",
    "x_train, x_test, y_train, y_test = train_test_split(features_norm,labels,test_size = 0.30, random_state=0)"
   ]
  },
  {
   "cell_type": "code",
   "execution_count": 16,
   "metadata": {},
   "outputs": [],
   "source": [
    "# Train the machine learning model using Support Vector Machines\n",
    "svm1 = svm.SVC()\n",
    "svm1.fit(x_train, y_train)\n",
    "y_pred = svm1.predict(x_test)"
   ]
  },
  {
   "cell_type": "code",
   "execution_count": 15,
   "metadata": {},
   "outputs": [
    {
     "name": "stdout",
     "output_type": "stream",
     "text": [
      "Accuracy is 0.978\n",
      "F1-measure is: 0.978\n",
      "Recall is 0.978\n",
      "Precision is 0.980\n",
      "[[16  0  0]\n",
      " [ 0 17  1]\n",
      " [ 0  0 11]]\n",
      "Predicted   0   1   2  All\n",
      "True                      \n",
      "0          16   0   0   16\n",
      "1           0  17   1   18\n",
      "2           0   0  11   11\n",
      "All        16  17  12   45\n"
     ]
    }
   ],
   "source": [
    "eval_metrics(y_test= y_test, y_pred=y_pred)\n"
   ]
  },
  {
   "cell_type": "code",
   "execution_count": 17,
   "metadata": {},
   "outputs": [],
   "source": [
    "# Train the model using LogisticRegression\n",
    "log_reg = LogisticRegression()\n",
    "log_reg.fit(x_train, y_train)\n",
    "log_predicted = log_reg.predict(x_test) \n"
   ]
  },
  {
   "cell_type": "code",
   "execution_count": 19,
   "metadata": {},
   "outputs": [
    {
     "name": "stdout",
     "output_type": "stream",
     "text": [
      "Accuracy is 0.978\n",
      "F1-measure is: 0.978\n",
      "Recall is 0.978\n",
      "Precision is 0.980\n",
      "[[16  0  0]\n",
      " [ 0 17  1]\n",
      " [ 0  0 11]]\n",
      "Predicted   0   1   2  All\n",
      "True                      \n",
      "0          16   0   0   16\n",
      "1           0  17   1   18\n",
      "2           0   0  11   11\n",
      "All        16  17  12   45\n"
     ]
    }
   ],
   "source": [
    "# Evaluate metrics for Logistic Regression\n",
    "eval_metrics(y_test = y_test, y_pred= log_predicted)"
   ]
  },
  {
   "cell_type": "code",
   "execution_count": 21,
   "metadata": {},
   "outputs": [],
   "source": [
    "# Evaluate model with Naive Bayes\n",
    "\n",
    "GB = GaussianNB()\n",
    "GB.fit(x_train, y_train)\n",
    "GB_pred = GB.predict(x_test)"
   ]
  },
  {
   "cell_type": "code",
   "execution_count": 22,
   "metadata": {},
   "outputs": [
    {
     "name": "stdout",
     "output_type": "stream",
     "text": [
      "Accuracy is 1.000\n",
      "F1-measure is: 1.000\n",
      "Recall is 1.000\n",
      "Precision is 1.000\n",
      "[[16  0  0]\n",
      " [ 0 18  0]\n",
      " [ 0  0 11]]\n",
      "Predicted   0   1   2  All\n",
      "True                      \n",
      "0          16   0   0   16\n",
      "1           0  18   0   18\n",
      "2           0   0  11   11\n",
      "All        16  18  11   45\n"
     ]
    }
   ],
   "source": [
    "eval_metrics(y_test = y_test, y_pred = GB_pred)"
   ]
  }
 ],
 "metadata": {
  "kernelspec": {
   "display_name": "base",
   "language": "python",
   "name": "python3"
  },
  "language_info": {
   "codemirror_mode": {
    "name": "ipython",
    "version": 3
   },
   "file_extension": ".py",
   "mimetype": "text/x-python",
   "name": "python",
   "nbconvert_exporter": "python",
   "pygments_lexer": "ipython3",
   "version": "3.11.5"
  }
 },
 "nbformat": 4,
 "nbformat_minor": 2
}
